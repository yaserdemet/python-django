{
 "cells": [
  {
   "cell_type": "code",
   "execution_count": 1,
   "metadata": {},
   "outputs": [
    {
     "name": "stdout",
     "output_type": "stream",
     "text": [
      "Five is greater than two\n"
     ]
    }
   ],
   "source": [
    "if 5 > 2 : \n",
    "    print (\"Five is greater than two\")"
   ]
  },
  {
   "cell_type": "code",
   "execution_count": null,
   "metadata": {},
   "outputs": [],
   "source": [
    "# this line is comment line"
   ]
  },
  {
   "cell_type": "code",
   "execution_count": 4,
   "metadata": {},
   "outputs": [
    {
     "name": "stdout",
     "output_type": "stream",
     "text": [
      "<class 'int'> <class 'str'>\n"
     ]
    }
   ],
   "source": [
    "x = 5\n",
    "y = \"mozz\"\n",
    "print(type(x) , type(y))"
   ]
  },
  {
   "cell_type": "code",
   "execution_count": 5,
   "metadata": {},
   "outputs": [
    {
     "name": "stdout",
     "output_type": "stream",
     "text": [
      "dunedain mozz apparat\n"
     ]
    }
   ],
   "source": [
    "x , y , z = \"dunedain\" , \"mozz\" , \"apparat\"\n",
    "print(x , y , z)\n",
    "# birden fazla variable olusturma"
   ]
  },
  {
   "cell_type": "code",
   "execution_count": 9,
   "metadata": {},
   "outputs": [
    {
     "name": "stdout",
     "output_type": "stream",
     "text": [
      "pythonisawesome\n"
     ]
    }
   ],
   "source": [
    "x , y , z = \"python\" , \"is\" , \"awesome\"\n",
    "print(x+y+z)\n",
    "# string concatenation"
   ]
  },
  {
   "cell_type": "code",
   "execution_count": 10,
   "metadata": {},
   "outputs": [
    {
     "name": "stdout",
     "output_type": "stream",
     "text": [
      "15\n"
     ]
    }
   ],
   "source": [
    "x , y = 10 , 5\n",
    "print(x + y)"
   ]
  },
  {
   "cell_type": "code",
   "execution_count": 11,
   "metadata": {},
   "outputs": [
    {
     "ename": "TypeError",
     "evalue": "can only concatenate str (not \"int\") to str",
     "output_type": "error",
     "traceback": [
      "\u001b[1;31m---------------------------------------------------------------------------\u001b[0m",
      "\u001b[1;31mTypeError\u001b[0m                                 Traceback (most recent call last)",
      "\u001b[1;32mc:\\Users\\asus\\OneDrive\\Masaüstü\\ITF\\main\\Python-Codes\\review.ipynb Hücre 7\u001b[0m in \u001b[0;36m<module>\u001b[1;34m\u001b[0m\n\u001b[0;32m      <a href='vscode-notebook-cell:/c%3A/Users/asus/OneDrive/Masa%C3%BCst%C3%BC/ITF/main/Python-Codes/review.ipynb#W6sZmlsZQ%3D%3D?line=0'>1</a>\u001b[0m x , y  \u001b[39m=\u001b[39m \u001b[39m\"\u001b[39m\u001b[39m10\u001b[39m\u001b[39m\"\u001b[39m , \u001b[39m5\u001b[39m\n\u001b[1;32m----> <a href='vscode-notebook-cell:/c%3A/Users/asus/OneDrive/Masa%C3%BCst%C3%BC/ITF/main/Python-Codes/review.ipynb#W6sZmlsZQ%3D%3D?line=1'>2</a>\u001b[0m \u001b[39mprint\u001b[39m(x \u001b[39m+\u001b[39;49m y)\n",
      "\u001b[1;31mTypeError\u001b[0m: can only concatenate str (not \"int\") to str"
     ]
    }
   ],
   "source": [
    "x , y  = \"10\" , 5\n",
    "print(x + y)\n",
    "# İNT VE STRİNG TOPLAMAYA CALISTIGIMIZDA HATA ALIRIZ"
   ]
  },
  {
   "cell_type": "code",
   "execution_count": 12,
   "metadata": {},
   "outputs": [
    {
     "name": "stdout",
     "output_type": "stream",
     "text": [
      "1015\n"
     ]
    }
   ],
   "source": [
    "x , y = \"10\" , \"15\"\n",
    "print(x+y)\n",
    "# string toplama islemi yapar"
   ]
  },
  {
   "cell_type": "code",
   "execution_count": 14,
   "metadata": {},
   "outputs": [
    {
     "name": "stdout",
     "output_type": "stream",
     "text": [
      "python is awesome\n"
     ]
    }
   ],
   "source": [
    "x = \"awesome\"\n",
    "# x burada  global değişkendir\n",
    "def myFunc():\n",
    "    print(\"python is \" + x)\n",
    "    \n",
    "myFunc()"
   ]
  },
  {
   "cell_type": "code",
   "execution_count": 18,
   "metadata": {},
   "outputs": [
    {
     "name": "stdout",
     "output_type": "stream",
     "text": [
      "<class 'float'>\n",
      "<class 'int'>\n",
      "<class 'bool'>\n",
      "<class 'str'>\n"
     ]
    }
   ],
   "source": [
    "print(type(3.14))\n",
    "print(type(3))\n",
    "print(type(True))\n",
    "print(type(\"mozz\"))"
   ]
  },
  {
   "cell_type": "code",
   "execution_count": 19,
   "metadata": {},
   "outputs": [
    {
     "name": "stdout",
     "output_type": "stream",
     "text": [
      "<class 'str'>\n"
     ]
    }
   ],
   "source": [
    "x = 4\n",
    "print(type(str(x)))"
   ]
  },
  {
   "cell_type": "code",
   "execution_count": 20,
   "metadata": {},
   "outputs": [
    {
     "ename": "ValueError",
     "evalue": "invalid literal for int() with base 10: 'mozz'",
     "output_type": "error",
     "traceback": [
      "\u001b[1;31m---------------------------------------------------------------------------\u001b[0m",
      "\u001b[1;31mValueError\u001b[0m                                Traceback (most recent call last)",
      "\u001b[1;32mc:\\Users\\asus\\OneDrive\\Masaüstü\\ITF\\main\\Python-Codes\\review.ipynb Hücre 12\u001b[0m in \u001b[0;36m<module>\u001b[1;34m\u001b[0m\n\u001b[0;32m      <a href='vscode-notebook-cell:/c%3A/Users/asus/OneDrive/Masa%C3%BCst%C3%BC/ITF/main/Python-Codes/review.ipynb#X14sZmlsZQ%3D%3D?line=0'>1</a>\u001b[0m x \u001b[39m=\u001b[39m \u001b[39m\"\u001b[39m\u001b[39mmozz\u001b[39m\u001b[39m\"\u001b[39m\n\u001b[1;32m----> <a href='vscode-notebook-cell:/c%3A/Users/asus/OneDrive/Masa%C3%BCst%C3%BC/ITF/main/Python-Codes/review.ipynb#X14sZmlsZQ%3D%3D?line=1'>2</a>\u001b[0m y \u001b[39m=\u001b[39m \u001b[39mint\u001b[39;49m(x)\n\u001b[0;32m      <a href='vscode-notebook-cell:/c%3A/Users/asus/OneDrive/Masa%C3%BCst%C3%BC/ITF/main/Python-Codes/review.ipynb#X14sZmlsZQ%3D%3D?line=2'>3</a>\u001b[0m \u001b[39mprint\u001b[39m(\u001b[39mtype\u001b[39m(y))\n",
      "\u001b[1;31mValueError\u001b[0m: invalid literal for int() with base 10: 'mozz'"
     ]
    }
   ],
   "source": [
    "x = \"mozz\"\n",
    "y = int(x)\n",
    "print(type(y))\n",
    "# int string e çevrilir fakat string int e çevrilmez"
   ]
  },
  {
   "cell_type": "code",
   "execution_count": 21,
   "metadata": {},
   "outputs": [
    {
     "name": "stdout",
     "output_type": "stream",
     "text": [
      "<class 'int'>\n"
     ]
    }
   ],
   "source": [
    "x = \"50\"\n",
    "y = int(x)\n",
    "print(type(y))"
   ]
  },
  {
   "cell_type": "code",
   "execution_count": 26,
   "metadata": {},
   "outputs": [
    {
     "name": "stdout",
     "output_type": "stream",
     "text": [
      "<module 'random' from 'c:\\\\Users\\\\asus\\\\AppData\\\\Local\\\\Programs\\\\Python\\\\Python39\\\\lib\\\\random.py'>\n",
      "4\n"
     ]
    }
   ],
   "source": [
    "import random\n",
    "#random sayı üretmek için random u import et (module)\n",
    "print(random)\n",
    "print(random.randrange(1,10))"
   ]
  },
  {
   "cell_type": "code",
   "execution_count": 28,
   "metadata": {},
   "outputs": [
    {
     "name": "stdout",
     "output_type": "stream",
     "text": [
      "3.0 <class 'float'>\n"
     ]
    }
   ],
   "source": [
    "x = 3\n",
    "y = float(x)\n",
    "print(y , type(y))"
   ]
  },
  {
   "cell_type": "code",
   "execution_count": 29,
   "metadata": {},
   "outputs": [
    {
     "name": "stdout",
     "output_type": "stream",
     "text": [
      "b\n",
      "a\n",
      "n\n",
      "a\n",
      "n\n",
      "a\n"
     ]
    }
   ],
   "source": [
    "for i in \"banana\":\n",
    "    print(i)"
   ]
  },
  {
   "cell_type": "code",
   "execution_count": 30,
   "metadata": {},
   "outputs": [
    {
     "name": "stdout",
     "output_type": "stream",
     "text": [
      "24\n"
     ]
    }
   ],
   "source": [
    "x = \"hello ancient apparation\"\n",
    "print(len(x))"
   ]
  },
  {
   "cell_type": "code",
   "execution_count": 31,
   "metadata": {},
   "outputs": [
    {
     "name": "stdout",
     "output_type": "stream",
     "text": [
      "True\n"
     ]
    }
   ],
   "source": [
    "x = \" the best things in life are free\"\n",
    "print(\"free\" in x)"
   ]
  },
  {
   "cell_type": "code",
   "execution_count": 32,
   "metadata": {},
   "outputs": [
    {
     "name": "stdout",
     "output_type": "stream",
     "text": [
      "cie\n"
     ]
    }
   ],
   "source": [
    "x = \"ancient apparation\"\n",
    "print(x[2:5])"
   ]
  },
  {
   "cell_type": "code",
   "execution_count": 33,
   "metadata": {},
   "outputs": [
    {
     "name": "stdout",
     "output_type": "stream",
     "text": [
      "ancie\n"
     ]
    }
   ],
   "source": [
    "print(x[:5])"
   ]
  },
  {
   "cell_type": "code",
   "execution_count": 34,
   "metadata": {},
   "outputs": [
    {
     "name": "stdout",
     "output_type": "stream",
     "text": [
      "ti\n"
     ]
    }
   ],
   "source": [
    "print(x[-4 : -2])"
   ]
  },
  {
   "cell_type": "code",
   "execution_count": 35,
   "metadata": {},
   "outputs": [
    {
     "name": "stdout",
     "output_type": "stream",
     "text": [
      "ancient apparation\n"
     ]
    }
   ],
   "source": [
    "print(x.lower())"
   ]
  },
  {
   "cell_type": "code",
   "execution_count": 38,
   "metadata": {},
   "outputs": [
    {
     "name": "stdout",
     "output_type": "stream",
     "text": [
      "ANCIENT APPARATION\n"
     ]
    }
   ],
   "source": [
    "print(x.upper())"
   ]
  },
  {
   "cell_type": "code",
   "execution_count": 39,
   "metadata": {},
   "outputs": [
    {
     "name": "stdout",
     "output_type": "stream",
     "text": [
      "python apparation\n"
     ]
    }
   ],
   "source": [
    "print(x.replace(\"ancient\",\"python\"))"
   ]
  },
  {
   "cell_type": "code",
   "execution_count": 43,
   "metadata": {},
   "outputs": [
    {
     "name": "stdout",
     "output_type": "stream",
     "text": [
      "['ancient', 'apparation']\n"
     ]
    }
   ],
   "source": [
    "print(x.split(\" \"))\n",
    "# split stringi parçalar ve liste olarak döner"
   ]
  },
  {
   "cell_type": "code",
   "execution_count": 45,
   "metadata": {},
   "outputs": [
    {
     "name": "stdout",
     "output_type": "stream",
     "text": [
      "hello my name is 29 and i am yaser years old\n"
     ]
    }
   ],
   "source": [
    "x = 29\n",
    "y = \"yaser\"\n",
    "message = f\"hello my name is {x} and i am {y} years old\"\n",
    "# f string kullanarak stringi oluşturduk\n",
    "print(message)"
   ]
  },
  {
   "cell_type": "code",
   "execution_count": 49,
   "metadata": {},
   "outputs": [
    {
     "name": "stdout",
     "output_type": "stream",
     "text": [
      "hello my name is 29 and i am yaser years old\n"
     ]
    }
   ],
   "source": [
    "x = 29\n",
    "y = \"yaser\"\n",
    "message = \"hello my name is {0} and i am {1} years old\"\n",
    "print(message.format(x , y))\n"
   ]
  },
  {
   "cell_type": "code",
   "execution_count": 50,
   "metadata": {},
   "outputs": [
    {
     "name": "stdout",
     "output_type": "stream",
     "text": [
      "hello my name is 29 and i am yaser years old\n"
     ]
    }
   ],
   "source": [
    "x = 29\n",
    "y = \"yaser\"\n",
    "message = \"hello my name is {0} and i am {1} years old\".format(x , y)\n",
    "# format kullanarak stringi oluşturdukr\n",
    "print(message)"
   ]
  },
  {
   "cell_type": "code",
   "execution_count": 53,
   "metadata": {},
   "outputs": [
    {
     "name": "stdout",
     "output_type": "stream",
     "text": [
      "['app', 'on', 'python']\n"
     ]
    }
   ],
   "source": [
    "x = \"app\" , \"on\" , \"python\"\n",
    "print(list(x))\n"
   ]
  },
  {
   "cell_type": "code",
   "execution_count": 54,
   "metadata": {},
   "outputs": [
    {
     "ename": "TypeError",
     "evalue": "list expected at most 1 argument, got 3",
     "output_type": "error",
     "traceback": [
      "\u001b[1;31m---------------------------------------------------------------------------\u001b[0m",
      "\u001b[1;31mTypeError\u001b[0m                                 Traceback (most recent call last)",
      "\u001b[1;32mc:\\Users\\asus\\OneDrive\\Masaüstü\\ITF\\main\\Python-Codes\\review.ipynb Hücre 30\u001b[0m in \u001b[0;36m<module>\u001b[1;34m\u001b[0m\n\u001b[1;32m----> <a href='vscode-notebook-cell:/c%3A/Users/asus/OneDrive/Masa%C3%BCst%C3%BC/ITF/main/Python-Codes/review.ipynb#X41sZmlsZQ%3D%3D?line=0'>1</a>\u001b[0m \u001b[39mprint\u001b[39m(\u001b[39mlist\u001b[39;49m(\u001b[39m\"\u001b[39;49m\u001b[39morange\u001b[39;49m\u001b[39m\"\u001b[39;49m , \u001b[39m\"\u001b[39;49m\u001b[39mapple\u001b[39;49m\u001b[39m\"\u001b[39;49m , \u001b[39m\"\u001b[39;49m\u001b[39mbanana\u001b[39;49m\u001b[39m\"\u001b[39;49m))\n",
      "\u001b[1;31mTypeError\u001b[0m: list expected at most 1 argument, got 3"
     ]
    }
   ],
   "source": [
    "print(list(\"orange\" , \"apple\" , \"banana\"))"
   ]
  },
  {
   "cell_type": "code",
   "execution_count": 58,
   "metadata": {},
   "outputs": [
    {
     "name": "stdout",
     "output_type": "stream",
     "text": [
      "['on', 'python', 'orange', 'apple']\n"
     ]
    }
   ],
   "source": [
    "my_list = [\"app\" , \"on\" , \"python\" , \"orange\" , \"apple\" , \"banana\"]\n",
    "print(my_list[1 : 5])"
   ]
  },
  {
   "cell_type": "code",
   "execution_count": 59,
   "metadata": {},
   "outputs": [
    {
     "name": "stdout",
     "output_type": "stream",
     "text": [
      "app is in my_list\n"
     ]
    }
   ],
   "source": [
    "if \"app\" in my_list:\n",
    "    print(\"app is in my_list\")"
   ]
  },
  {
   "cell_type": "code",
   "execution_count": 60,
   "metadata": {},
   "outputs": [
    {
     "name": "stdout",
     "output_type": "stream",
     "text": [
      "['app', 'demet yaser', 'python', 'orange', 'apple', 'banana']\n"
     ]
    }
   ],
   "source": [
    "my_list[1] = \"demet yaser\"\n",
    "print(my_list)\n",
    "# listenin elemanlarını değiştirme yeni atama yapma"
   ]
  },
  {
   "cell_type": "code",
   "execution_count": 61,
   "metadata": {},
   "outputs": [
    {
     "name": "stdout",
     "output_type": "stream",
     "text": [
      "['app', 'm', 'o', 'z', 'z', 'orange', 'apple', 'banana']\n"
     ]
    }
   ],
   "source": [
    "my_list[1 : 3] = \"mozz\"\n",
    "print(my_list)"
   ]
  },
  {
   "cell_type": "code",
   "execution_count": 62,
   "metadata": {},
   "outputs": [
    {
     "data": {
      "text/plain": [
       "['app', 'deneme123', 'm', 'o', 'z', 'z', 'orange', 'apple', 'banana']"
      ]
     },
     "execution_count": 62,
     "metadata": {},
     "output_type": "execute_result"
    }
   ],
   "source": [
    "my_list.insert(1 , \"deneme123\")\n",
    "my_list"
   ]
  },
  {
   "cell_type": "code",
   "execution_count": 63,
   "metadata": {},
   "outputs": [
    {
     "data": {
      "text/plain": [
       "[1, 2, 3, 4, 5, 6, 7, 8, 9, 10, 11]"
      ]
     },
     "execution_count": 63,
     "metadata": {},
     "output_type": "execute_result"
    }
   ],
   "source": [
    "new_list = [1 , 2 , 3 , 4 , 5 , 6 , 7 , 8 , 9 , 10]\n",
    "new_list.append(11)\n",
    "new_list"
   ]
  },
  {
   "cell_type": "code",
   "execution_count": 64,
   "metadata": {},
   "outputs": [
    {
     "name": "stdout",
     "output_type": "stream",
     "text": [
      "[1, 2, 3, 4, 5, 6, 7, 8]\n"
     ]
    }
   ],
   "source": [
    "first_list = [1,2,3,4]\n",
    "second_list = [5,6,7,8]\n",
    "first_list.extend(second_list)\n",
    "print(first_list)\n",
    "#iki listeyi birlestirmek için extend kullanırız"
   ]
  },
  {
   "cell_type": "code",
   "execution_count": 65,
   "metadata": {},
   "outputs": [
    {
     "data": {
      "text/plain": [
       "[1, 2, 3, 4, 5, 6, 7, 8]"
      ]
     },
     "execution_count": 65,
     "metadata": {},
     "output_type": "execute_result"
    }
   ],
   "source": [
    "first_list = [1,2,3,4]\n",
    "my_tuple = (5,6,7,8)\n",
    "first_list.extend(my_tuple)\n",
    "first_list\n",
    "# extend ile liste elemanlarını bir tuple ile birlestiririz"
   ]
  },
  {
   "cell_type": "code",
   "execution_count": 66,
   "metadata": {},
   "outputs": [
    {
     "data": {
      "text/plain": [
       "[1, 2, 3, 4, 6, 7, 8, 9, 10]"
      ]
     },
     "execution_count": 66,
     "metadata": {},
     "output_type": "execute_result"
    }
   ],
   "source": [
    "first_list = [1,2,3,4 , 5 , 6 , 7 , 8 , 9 , 10]\n",
    "first_list.remove(5)\n",
    "first_list\n",
    "#remove ile herhangi bir eleman cıkarılabilir."
   ]
  },
  {
   "cell_type": "code",
   "execution_count": 71,
   "metadata": {},
   "outputs": [
    {
     "data": {
      "text/plain": [
       "[5, 7, 8]"
      ]
     },
     "execution_count": 71,
     "metadata": {},
     "output_type": "execute_result"
    }
   ],
   "source": [
    "del second_list[1]\n",
    "second_list\n",
    "# del ile hem item hem de ilgili eleman silinebilir."
   ]
  },
  {
   "cell_type": "code",
   "execution_count": 72,
   "metadata": {},
   "outputs": [
    {
     "data": {
      "text/plain": [
       "[]"
      ]
     },
     "execution_count": 72,
     "metadata": {},
     "output_type": "execute_result"
    }
   ],
   "source": [
    "second_list.clear()\n",
    "second_list\n",
    "# clear ile arrayin içindeki tüm elemanları silebilirz."
   ]
  },
  {
   "cell_type": "code",
   "execution_count": 73,
   "metadata": {},
   "outputs": [
    {
     "name": "stdout",
     "output_type": "stream",
     "text": [
      "1\n",
      "2\n",
      "3\n",
      "4\n",
      "5\n"
     ]
    }
   ],
   "source": [
    "my_list = [1,2,3,4,5]\n",
    "for i in my_list:\n",
    "    print(i)"
   ]
  },
  {
   "cell_type": "code",
   "execution_count": 75,
   "metadata": {},
   "outputs": [
    {
     "name": "stdout",
     "output_type": "stream",
     "text": [
      "0\n",
      "1\n",
      "2\n",
      "3\n",
      "4\n"
     ]
    }
   ],
   "source": [
    "for i in range(len(my_list)):\n",
    "    print(i)"
   ]
  },
  {
   "cell_type": "code",
   "execution_count": 77,
   "metadata": {},
   "outputs": [
    {
     "name": "stdout",
     "output_type": "stream",
     "text": [
      "ali\n",
      "veli\n",
      "ayse\n",
      "fatma\n"
     ]
    }
   ],
   "source": [
    "new_array = [\"ali\" , \"veli\" , \"ayse\" , \"fatma\"]\n",
    "i = 0\n",
    "while i < len(new_array):\n",
    "    print(new_array[i])\n",
    "    i += 1\n"
   ]
  },
  {
   "cell_type": "code",
   "execution_count": 81,
   "metadata": {},
   "outputs": [
    {
     "name": "stdout",
     "output_type": "stream",
     "text": [
      "['ali', 'veli']\n"
     ]
    }
   ],
   "source": [
    "new_array = [\"ali\" , \"veli\" , \"ayse\" , \"fatma\"]\n",
    "emprty_array = []\n",
    "for i in new_array:\n",
    "    if \"i\" in i:\n",
    "        emprty_array.append(i)\n",
    "print(emprty_array)"
   ]
  },
  {
   "cell_type": "code",
   "execution_count": 82,
   "metadata": {},
   "outputs": [
    {
     "data": {
      "text/plain": [
       "['ali', 'veli']"
      ]
     },
     "execution_count": 82,
     "metadata": {},
     "output_type": "execute_result"
    }
   ],
   "source": [
    "my_array = [\"ali\" , \"veli\" , \"ayse\" , \"fatma\"]\n",
    "new_list2 = [i for i in my_array if \"i\" in i]\n",
    "new_list2\n",
    "#list comprehension kullanarak liste oluşturma js te ternary kullanımı gibidir."
   ]
  },
  {
   "cell_type": "code",
   "execution_count": 85,
   "metadata": {},
   "outputs": [
    {
     "data": {
      "text/plain": [
       "['veli', 'ayse', 'fatma']"
      ]
     },
     "execution_count": 85,
     "metadata": {},
     "output_type": "execute_result"
    }
   ],
   "source": [
    "my_array = [\"ali\" , \"veli\" , \"ayse\" , \"fatma\"]\n",
    "deneme = [i for i in my_array if i != \"ali\"]\n",
    "deneme\n",
    "#js te filter metodu gib"
   ]
  },
  {
   "cell_type": "code",
   "execution_count": 87,
   "metadata": {},
   "outputs": [
    {
     "data": {
      "text/plain": [
       "[0, 3, 6, 9]"
      ]
     },
     "execution_count": 87,
     "metadata": {},
     "output_type": "execute_result"
    }
   ],
   "source": [
    "deneme2 = [i for i in range(10) if i % 3 == 0]\n",
    "deneme2"
   ]
  },
  {
   "cell_type": "code",
   "execution_count": 88,
   "metadata": {},
   "outputs": [
    {
     "data": {
      "text/plain": [
       "['ALI', 'VELI', 'AYSE', 'FATMA']"
      ]
     },
     "execution_count": 88,
     "metadata": {},
     "output_type": "execute_result"
    }
   ],
   "source": [
    "my_array = [\"ali\" , \"veli\" , \"ayse\" , \"fatma\"]\n",
    "deneme3 = [x.upper() for x in my_array]\n",
    "deneme3"
   ]
  },
  {
   "cell_type": "code",
   "execution_count": 90,
   "metadata": {},
   "outputs": [
    {
     "data": {
      "text/plain": [
       "['ali', 'ayse', 'fatma', 'veli']"
      ]
     },
     "execution_count": 90,
     "metadata": {},
     "output_type": "execute_result"
    }
   ],
   "source": [
    "my_array.sort()\n",
    "my_array\n",
    "# sort alfabetik olarak sıralama yapar."
   ]
  },
  {
   "cell_type": "code",
   "execution_count": 92,
   "metadata": {},
   "outputs": [
    {
     "data": {
      "text/plain": [
       "[30, 220, 420, 450, 5101]"
      ]
     },
     "execution_count": 92,
     "metadata": {},
     "output_type": "execute_result"
    }
   ],
   "source": [
    "new_array = [5101 , 220 , 30 , 420 , 450]\n",
    "new_array.sort()\n",
    "new_array"
   ]
  },
  {
   "cell_type": "code",
   "execution_count": 93,
   "metadata": {},
   "outputs": [
    {
     "data": {
      "text/plain": [
       "[5101, 450, 420, 220, 30]"
      ]
     },
     "execution_count": 93,
     "metadata": {},
     "output_type": "execute_result"
    }
   ],
   "source": [
    "new_array.sort(reverse = True)\n",
    "new_array\n",
    "#tersten sıralama için reverse = True kullan."
   ]
  },
  {
   "cell_type": "code",
   "execution_count": 97,
   "metadata": {},
   "outputs": [
    {
     "data": {
      "text/plain": [
       "[10, 20, 50, 101]"
      ]
     },
     "execution_count": 97,
     "metadata": {},
     "output_type": "execute_result"
    }
   ],
   "source": [
    "new_array = [10 , 20 , 50 , 101]\n",
    "def my_function(n):\n",
    "   return n -5\n",
    "new_array.sort(key = my_function)\n",
    "new_array\n",
    "# nasıl sıralama yapmasını istiyorsak bir fonksiyon yazıp key = fonksiyonu kullanırız."
   ]
  },
  {
   "cell_type": "code",
   "execution_count": 98,
   "metadata": {},
   "outputs": [
    {
     "data": {
      "text/plain": [
       "['Apple', 'Orange', 'banana', 'mango']"
      ]
     },
     "execution_count": 98,
     "metadata": {},
     "output_type": "execute_result"
    }
   ],
   "source": [
    "deneme4 = [\"banana\" , \"Orange\" , \"Apple\" , \"mango\"]\n",
    "deneme4.sort()\n",
    "deneme4\n",
    "# default büyük harfler küçük harflerden daha önce sıralanır"
   ]
  },
  {
   "cell_type": "code",
   "execution_count": 103,
   "metadata": {},
   "outputs": [
    {
     "data": {
      "text/plain": [
       "['Apple', 'banana', 'mango', 'Orange']"
      ]
     },
     "execution_count": 103,
     "metadata": {},
     "output_type": "execute_result"
    }
   ],
   "source": [
    "deneme4 = [\"banana\" , \"Orange\" , \"Apple\" , \"mango\"]\n",
    "deneme4.sort(key = str.lower)\n",
    "deneme4\n",
    "# default olarak büyük harfler önce gelir demiştik. Fakat sensitive bakmadan sıralma yapmak istiyorsak \n",
    "# sort(key = str.lower) kullanırız."
   ]
  },
  {
   "cell_type": "code",
   "execution_count": 104,
   "metadata": {},
   "outputs": [
    {
     "name": "stdout",
     "output_type": "stream",
     "text": [
      "a is greater than b\n"
     ]
    }
   ],
   "source": [
    "a , b = 33 , 22\n",
    "\n",
    "if a > b :\n",
    "    print(\"a is greater than b\")\n",
    "\n",
    "elif a == b :\n",
    "    print(\"a is equal to b\")\n",
    "else :\n",
    "    \n",
    "    print(\"a is less than b\")\n",
    "    \n",
    "# js te elif yeri else if kullanılır.\n",
    "# if(a > b) { } else if(a == b) { } else { }"
   ]
  },
  {
   "cell_type": "code",
   "execution_count": 106,
   "metadata": {},
   "outputs": [
    {
     "name": "stdout",
     "output_type": "stream",
     "text": [
      "a is greater than b\n"
     ]
    }
   ],
   "source": [
    "a = 10\n",
    "b = 5\n",
    "if a >= b : print(\"a is greater than b\")\n",
    "# tek conditon varsa tek satırda : sonra yazılabilir."
   ]
  },
  {
   "cell_type": "code",
   "execution_count": 110,
   "metadata": {},
   "outputs": [
    {
     "name": "stdout",
     "output_type": "stream",
     "text": [
      "ali\n",
      "veli\n",
      "ayse\n"
     ]
    }
   ],
   "source": [
    "x = [\"ali\" , \"veli\" , \"ayse\" , \"fatma\"]\n",
    "for i in x : \n",
    "    print(i)\n",
    "    if i == \"ayse\":\n",
    "        break"
   ]
  },
  {
   "cell_type": "code",
   "execution_count": 114,
   "metadata": {},
   "outputs": [
    {
     "name": "stdout",
     "output_type": "stream",
     "text": [
      "banana\n",
      "orange\n",
      "mango\n",
      "pineapple\n"
     ]
    }
   ],
   "source": [
    "fruits = [\"banana\" , \"orange\" , \"apple\" , \"mango\" , \"pineapple\"]\n",
    "for i in fruits : \n",
    "    \n",
    "    if i == \"apple\":\n",
    "        continue\n",
    "    print(i)\n",
    "    "
   ]
  },
  {
   "cell_type": "code",
   "execution_count": 115,
   "metadata": {},
   "outputs": [
    {
     "name": "stdout",
     "output_type": "stream",
     "text": [
      "20\n",
      "23\n",
      "26\n",
      "29\n",
      "32\n",
      "35\n",
      "38\n",
      "41\n",
      "44\n",
      "47\n",
      "50\n",
      "53\n",
      "56\n",
      "59\n",
      "62\n",
      "65\n",
      "68\n",
      "71\n",
      "74\n",
      "77\n",
      "80\n",
      "83\n",
      "86\n",
      "89\n"
     ]
    }
   ],
   "source": [
    "for i in range(20 , 90 , 3):\n",
    "    print(i)"
   ]
  },
  {
   "cell_type": "code",
   "execution_count": 116,
   "metadata": {},
   "outputs": [
    {
     "name": "stdout",
     "output_type": "stream",
     "text": [
      "1 banana\n",
      "1 orange\n",
      "1 apple\n",
      "1 mango\n",
      "1 pineapple\n",
      "2 banana\n",
      "2 orange\n",
      "2 apple\n",
      "2 mango\n",
      "2 pineapple\n",
      "3 banana\n",
      "3 orange\n",
      "3 apple\n",
      "3 mango\n",
      "3 pineapple\n",
      "4 banana\n",
      "4 orange\n",
      "4 apple\n",
      "4 mango\n",
      "4 pineapple\n",
      "5 banana\n",
      "5 orange\n",
      "5 apple\n",
      "5 mango\n",
      "5 pineapple\n",
      "6 banana\n",
      "6 orange\n",
      "6 apple\n",
      "6 mango\n",
      "6 pineapple\n",
      "7 banana\n",
      "7 orange\n",
      "7 apple\n",
      "7 mango\n",
      "7 pineapple\n",
      "8 banana\n",
      "8 orange\n",
      "8 apple\n",
      "8 mango\n",
      "8 pineapple\n",
      "9 banana\n",
      "9 orange\n",
      "9 apple\n",
      "9 mango\n",
      "9 pineapple\n",
      "10 banana\n",
      "10 orange\n",
      "10 apple\n",
      "10 mango\n",
      "10 pineapple\n"
     ]
    }
   ],
   "source": [
    "numbers = [1 , 2 , 3 , 4 , 5 , 6 , 7 , 8 , 9 , 10]\n",
    "fruits = [\"banana\" , \"orange\" , \"apple\" , \"mango\" , \"pineapple\"]\n",
    "for i in numbers:\n",
    "    for j in fruits:\n",
    "        print(i , j)"
   ]
  },
  {
   "cell_type": "code",
   "execution_count": 117,
   "metadata": {},
   "outputs": [
    {
     "name": "stdout",
     "output_type": "stream",
     "text": [
      "5\n"
     ]
    }
   ],
   "source": [
    "x = lambda a, b  : a + b\n",
    "print(x(2 , 3))"
   ]
  },
  {
   "cell_type": "code",
   "execution_count": 119,
   "metadata": {},
   "outputs": [
    {
     "data": {
      "text/plain": [
       "datetime.date(2022, 8, 15)"
      ]
     },
     "execution_count": 119,
     "metadata": {},
     "output_type": "execute_result"
    }
   ],
   "source": [
    "import datetime\n",
    "x = datetime.date.today()\n",
    "x"
   ]
  },
  {
   "cell_type": "code",
   "execution_count": 121,
   "metadata": {},
   "outputs": [
    {
     "data": {
      "text/plain": [
       "datetime.datetime(2022, 8, 15, 17, 52, 12, 144672)"
      ]
     },
     "execution_count": 121,
     "metadata": {},
     "output_type": "execute_result"
    }
   ],
   "source": [
    "import datetime\n",
    "x = datetime.datetime.now()\n",
    "x"
   ]
  },
  {
   "cell_type": "code",
   "execution_count": 122,
   "metadata": {},
   "outputs": [
    {
     "data": {
      "text/plain": [
       "datetime.datetime(2022, 8, 15, 17, 53, 25, 838550)"
      ]
     },
     "execution_count": 122,
     "metadata": {},
     "output_type": "execute_result"
    }
   ],
   "source": [
    "import datetime\n",
    "x = datetime.datetime.now()\n",
    "x"
   ]
  },
  {
   "cell_type": "code",
   "execution_count": 123,
   "metadata": {},
   "outputs": [
    {
     "data": {
      "text/plain": [
       "10"
      ]
     },
     "execution_count": 123,
     "metadata": {},
     "output_type": "execute_result"
    }
   ],
   "source": [
    "x = abs(-10)\n",
    "x"
   ]
  },
  {
   "cell_type": "code",
   "execution_count": 125,
   "metadata": {},
   "outputs": [
    {
     "data": {
      "text/plain": [
       "3"
      ]
     },
     "execution_count": 125,
     "metadata": {},
     "output_type": "execute_result"
    }
   ],
   "source": [
    "import math \n",
    "x = math.ceil(2.9)\n",
    "x"
   ]
  },
  {
   "cell_type": "code",
   "execution_count": 126,
   "metadata": {},
   "outputs": [
    {
     "data": {
      "text/plain": [
       "2"
      ]
     },
     "execution_count": 126,
     "metadata": {},
     "output_type": "execute_result"
    }
   ],
   "source": [
    "import math\n",
    "x = math.floor(2.9)\n",
    "x"
   ]
  },
  {
   "cell_type": "code",
   "execution_count": null,
   "metadata": {},
   "outputs": [],
   "source": []
  }
 ],
 "metadata": {
  "kernelspec": {
   "display_name": "Python 3.9.10 64-bit",
   "language": "python",
   "name": "python3"
  },
  "language_info": {
   "codemirror_mode": {
    "name": "ipython",
    "version": 3
   },
   "file_extension": ".py",
   "mimetype": "text/x-python",
   "name": "python",
   "nbconvert_exporter": "python",
   "pygments_lexer": "ipython3",
   "version": "3.9.10"
  },
  "orig_nbformat": 4,
  "vscode": {
   "interpreter": {
    "hash": "b667cebad148e7b094a58ee81f940c685de1dd70a003a9ccdca4a5792431bee5"
   }
  }
 },
 "nbformat": 4,
 "nbformat_minor": 2
}
